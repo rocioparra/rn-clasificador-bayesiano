{
 "cells": [
  {
   "cell_type": "code",
   "execution_count": 21,
   "metadata": {},
   "outputs": [
    {
     "ename": "ModuleNotFoundError",
     "evalue": "No module named 'helper'",
     "output_type": "error",
     "traceback": [
      "\u001b[1;31m---------------------------------------------------------------------------\u001b[0m",
      "\u001b[1;31mModuleNotFoundError\u001b[0m                       Traceback (most recent call last)",
      "\u001b[1;32m<ipython-input-21-b1da2f10f7bc>\u001b[0m in \u001b[0;36m<module>\u001b[1;34m\u001b[0m\n\u001b[1;32m----> 1\u001b[1;33m \u001b[1;32mimport\u001b[0m \u001b[0mhelper\u001b[0m\u001b[1;33m\u001b[0m\u001b[1;33m\u001b[0m\u001b[0m\n\u001b[0m",
      "\u001b[1;31mModuleNotFoundError\u001b[0m: No module named 'helper'"
     ]
    }
   ],
   "source": [
    "import helper\n"
   ]
  },
  {
   "cell_type": "code",
   "execution_count": 2,
   "metadata": {},
   "outputs": [],
   "source": [
    "df = pd.read_csv(\"https://raw.githubusercontent.com/lab-pep-itba/Clase-3---Clasificadores-Bayesianos/master/data/alturas-pesos-mils-train.csv\", index_col=\"Unnamed: 0\")\n",
    "df_test = pd.read_csv(\"https://raw.githubusercontent.com/lab-pep-itba/Clase-3---Clasificadores-Bayesianos/master/data/alturas-pesos-mils-test.csv\", index_col=\"Unnamed: 0\")"
   ]
  },
  {
   "cell_type": "code",
   "execution_count": 3,
   "metadata": {},
   "outputs": [
    {
     "data": {
      "text/html": [
       "<div>\n",
       "<style scoped>\n",
       "    .dataframe tbody tr th:only-of-type {\n",
       "        vertical-align: middle;\n",
       "    }\n",
       "\n",
       "    .dataframe tbody tr th {\n",
       "        vertical-align: top;\n",
       "    }\n",
       "\n",
       "    .dataframe thead th {\n",
       "        text-align: right;\n",
       "    }\n",
       "</style>\n",
       "<table border=\"1\" class=\"dataframe\">\n",
       "  <thead>\n",
       "    <tr style=\"text-align: right;\">\n",
       "      <th></th>\n",
       "      <th>Genero</th>\n",
       "      <th>Peso</th>\n",
       "      <th>Altura</th>\n",
       "    </tr>\n",
       "  </thead>\n",
       "  <tbody>\n",
       "    <tr>\n",
       "      <th>7620</th>\n",
       "      <td>Mujer</td>\n",
       "      <td>61.235</td>\n",
       "      <td>162.402</td>\n",
       "    </tr>\n",
       "    <tr>\n",
       "      <th>1837</th>\n",
       "      <td>Hombre</td>\n",
       "      <td>97.432</td>\n",
       "      <td>181.908</td>\n",
       "    </tr>\n",
       "    <tr>\n",
       "      <th>3311</th>\n",
       "      <td>Hombre</td>\n",
       "      <td>73.324</td>\n",
       "      <td>172.459</td>\n",
       "    </tr>\n",
       "    <tr>\n",
       "      <th>9478</th>\n",
       "      <td>Mujer</td>\n",
       "      <td>55.193</td>\n",
       "      <td>157.748</td>\n",
       "    </tr>\n",
       "    <tr>\n",
       "      <th>7805</th>\n",
       "      <td>Mujer</td>\n",
       "      <td>56.886</td>\n",
       "      <td>151.798</td>\n",
       "    </tr>\n",
       "  </tbody>\n",
       "</table>\n",
       "</div>"
      ],
      "text/plain": [
       "      Genero    Peso   Altura\n",
       "7620   Mujer  61.235  162.402\n",
       "1837  Hombre  97.432  181.908\n",
       "3311  Hombre  73.324  172.459\n",
       "9478   Mujer  55.193  157.748\n",
       "7805   Mujer  56.886  151.798"
      ]
     },
     "execution_count": 3,
     "metadata": {},
     "output_type": "execute_result"
    }
   ],
   "source": [
    "df.head()"
   ]
  },
  {
   "cell_type": "code",
   "execution_count": 4,
   "metadata": {},
   "outputs": [
    {
     "data": {
      "text/html": [
       "<div>\n",
       "<style scoped>\n",
       "    .dataframe tbody tr th:only-of-type {\n",
       "        vertical-align: middle;\n",
       "    }\n",
       "\n",
       "    .dataframe tbody tr th {\n",
       "        vertical-align: top;\n",
       "    }\n",
       "\n",
       "    .dataframe thead th {\n",
       "        text-align: right;\n",
       "    }\n",
       "</style>\n",
       "<table border=\"1\" class=\"dataframe\">\n",
       "  <thead>\n",
       "    <tr style=\"text-align: right;\">\n",
       "      <th></th>\n",
       "      <th>Peso</th>\n",
       "      <th>Altura</th>\n",
       "    </tr>\n",
       "  </thead>\n",
       "  <tbody>\n",
       "    <tr>\n",
       "      <th>7620</th>\n",
       "      <td>61.235</td>\n",
       "      <td>162.402</td>\n",
       "    </tr>\n",
       "    <tr>\n",
       "      <th>1837</th>\n",
       "      <td>97.432</td>\n",
       "      <td>181.908</td>\n",
       "    </tr>\n",
       "    <tr>\n",
       "      <th>3311</th>\n",
       "      <td>73.324</td>\n",
       "      <td>172.459</td>\n",
       "    </tr>\n",
       "    <tr>\n",
       "      <th>9478</th>\n",
       "      <td>55.193</td>\n",
       "      <td>157.748</td>\n",
       "    </tr>\n",
       "    <tr>\n",
       "      <th>7805</th>\n",
       "      <td>56.886</td>\n",
       "      <td>151.798</td>\n",
       "    </tr>\n",
       "    <tr>\n",
       "      <th>...</th>\n",
       "      <td>...</td>\n",
       "      <td>...</td>\n",
       "    </tr>\n",
       "    <tr>\n",
       "      <th>6395</th>\n",
       "      <td>62.215</td>\n",
       "      <td>160.083</td>\n",
       "    </tr>\n",
       "    <tr>\n",
       "      <th>2714</th>\n",
       "      <td>83.840</td>\n",
       "      <td>177.866</td>\n",
       "    </tr>\n",
       "    <tr>\n",
       "      <th>3476</th>\n",
       "      <td>75.461</td>\n",
       "      <td>170.910</td>\n",
       "    </tr>\n",
       "    <tr>\n",
       "      <th>7084</th>\n",
       "      <td>65.461</td>\n",
       "      <td>166.137</td>\n",
       "    </tr>\n",
       "    <tr>\n",
       "      <th>3346</th>\n",
       "      <td>80.323</td>\n",
       "      <td>171.575</td>\n",
       "    </tr>\n",
       "  </tbody>\n",
       "</table>\n",
       "<p>8000 rows × 2 columns</p>\n",
       "</div>"
      ],
      "text/plain": [
       "        Peso   Altura\n",
       "7620  61.235  162.402\n",
       "1837  97.432  181.908\n",
       "3311  73.324  172.459\n",
       "9478  55.193  157.748\n",
       "7805  56.886  151.798\n",
       "...      ...      ...\n",
       "6395  62.215  160.083\n",
       "2714  83.840  177.866\n",
       "3476  75.461  170.910\n",
       "7084  65.461  166.137\n",
       "3346  80.323  171.575\n",
       "\n",
       "[8000 rows x 2 columns]"
      ]
     },
     "execution_count": 4,
     "metadata": {},
     "output_type": "execute_result"
    }
   ],
   "source": [
    "df_mujeres = df[df['Genero']=='Mujer'].drop(columns=['Genero'])\n",
    "df_hombres = df[df['Genero']=='Hombre'].drop(columns=['Genero'])\n",
    "df.drop(columns='Genero')"
   ]
  },
  {
   "cell_type": "code",
   "execution_count": 5,
   "metadata": {},
   "outputs": [
    {
     "name": "stdout",
     "output_type": "stream",
     "text": [
      "0.49975+0.50025=1.0\n"
     ]
    }
   ],
   "source": [
    "p_mujer = len(df_mujeres)/len(df)\n",
    "p_hombre = len(df_hombres)/len(df)\n",
    "print(f'{p_mujer}+{p_hombre}={p_mujer+p_hombre}')"
   ]
  },
  {
   "cell_type": "code",
   "execution_count": 6,
   "metadata": {},
   "outputs": [],
   "source": [
    "mu_p, mu_a = df.mean()\n",
    "mu_p_m, mu_a_m = df_mujeres.mean()\n",
    "mu_p_h, mu_a_h = df_hombres.mean()"
   ]
  },
  {
   "cell_type": "code",
   "execution_count": 7,
   "metadata": {},
   "outputs": [
    {
     "data": {
      "text/html": [
       "<div>\n",
       "<style scoped>\n",
       "    .dataframe tbody tr th:only-of-type {\n",
       "        vertical-align: middle;\n",
       "    }\n",
       "\n",
       "    .dataframe tbody tr th {\n",
       "        vertical-align: top;\n",
       "    }\n",
       "\n",
       "    .dataframe thead th {\n",
       "        text-align: right;\n",
       "    }\n",
       "</style>\n",
       "<table border=\"1\" class=\"dataframe\">\n",
       "  <thead>\n",
       "    <tr style=\"text-align: right;\">\n",
       "      <th></th>\n",
       "      <th>Grupo</th>\n",
       "      <th>Media peso</th>\n",
       "      <th>Desvio peso</th>\n",
       "      <th>Media altura</th>\n",
       "      <th>Desvio altura</th>\n",
       "      <th>Correlacion peso-altura</th>\n",
       "    </tr>\n",
       "  </thead>\n",
       "  <tbody>\n",
       "    <tr>\n",
       "      <th>0</th>\n",
       "      <td>Todos</td>\n",
       "      <td>72.802476</td>\n",
       "      <td>14.624699</td>\n",
       "      <td>168.113424</td>\n",
       "      <td>9.829018</td>\n",
       "      <td>0.924378</td>\n",
       "    </tr>\n",
       "    <tr>\n",
       "      <th>1</th>\n",
       "      <td>Mujeres</td>\n",
       "      <td>61.137895</td>\n",
       "      <td>8.671726</td>\n",
       "      <td>161.304713</td>\n",
       "      <td>6.897148</td>\n",
       "      <td>0.848971</td>\n",
       "    </tr>\n",
       "    <tr>\n",
       "      <th>2</th>\n",
       "      <td>Hombres</td>\n",
       "      <td>84.455398</td>\n",
       "      <td>8.983019</td>\n",
       "      <td>174.915330</td>\n",
       "      <td>7.281646</td>\n",
       "      <td>0.860449</td>\n",
       "    </tr>\n",
       "  </tbody>\n",
       "</table>\n",
       "</div>"
      ],
      "text/plain": [
       "     Grupo  Media peso  Desvio peso  Media altura  Desvio altura  \\\n",
       "0    Todos   72.802476    14.624699    168.113424       9.829018   \n",
       "1  Mujeres   61.137895     8.671726    161.304713       6.897148   \n",
       "2  Hombres   84.455398     8.983019    174.915330       7.281646   \n",
       "\n",
       "   Correlacion peso-altura  \n",
       "0                 0.924378  \n",
       "1                 0.848971  \n",
       "2                 0.860449  "
      ]
     },
     "execution_count": 7,
     "metadata": {},
     "output_type": "execute_result"
    }
   ],
   "source": [
    "def get_cov_mat_data(df):\n",
    "    cov_mat = df.cov().to_numpy()\n",
    "    std_x, std_y = np.sqrt(cov_mat.diagonal())\n",
    "    std_xy = cov_mat[0][1]/std_x/std_y\n",
    "    return std_x, std_y, std_xy\n",
    "    \n",
    "std_p, std_a, std_pa = get_cov_mat_data(df.drop(columns='Genero'))\n",
    "std_p_m, std_a_m, std_pa_m = get_cov_mat_data(df_mujeres)\n",
    "std_p_h, std_a_h, std_pa_h = get_cov_mat_data(df_hombres)\n",
    "\n",
    "d = pd.DataFrame([['Todos', mu_p, std_p, mu_a, std_a, std_pa],\n",
    "              ['Mujeres', mu_p_m, std_p_m, mu_a_m, std_a_m, std_pa_m], \n",
    "              ['Hombres', mu_p_h, std_p_h, mu_a_h, std_a_h, std_pa_h]],\n",
    "    columns=['Grupo', 'Media peso', 'Desvio peso', 'Media altura', 'Desvio altura', 'Correlacion peso-altura'])\n",
    "\n",
    "d"
   ]
  },
  {
   "cell_type": "code",
   "execution_count": 8,
   "metadata": {},
   "outputs": [],
   "source": [
    "n_bins = 40\n",
    "hist, pedges, aedges = np.histogram2d(df['Peso'], df['Altura'], bins=n_bins)\n",
    "hist_m, _, _ = np.histogram2d(df_mujeres['Peso'], df_mujeres['Altura'], bins=(pedges, aedges))\n",
    "hist_h, _, _ = np.histogram2d(df_hombres['Peso'], df_hombres['Altura'], bins=(pedges, aedges))\n",
    "\n",
    "hist /= len(df)\n",
    "hist_m /= len(df_mujeres)\n",
    "hist_h /= len(df_hombres)"
   ]
  },
  {
   "cell_type": "code",
   "execution_count": 9,
   "metadata": {},
   "outputs": [
    {
     "ename": "NameError",
     "evalue": "name 'pedges_h' is not defined",
     "output_type": "error",
     "traceback": [
      "\u001b[1;31m---------------------------------------------------------------------------\u001b[0m",
      "\u001b[1;31mNameError\u001b[0m                                 Traceback (most recent call last)",
      "\u001b[1;32m<ipython-input-9-b3d14ac713e5>\u001b[0m in \u001b[0;36m<module>\u001b[1;34m\u001b[0m\n\u001b[0;32m     10\u001b[0m \u001b[1;32mfor\u001b[0m \u001b[0m_\u001b[0m\u001b[1;33m,\u001b[0m \u001b[0mpersona\u001b[0m \u001b[1;32min\u001b[0m \u001b[0mdf_test\u001b[0m\u001b[1;33m.\u001b[0m\u001b[0miterrows\u001b[0m\u001b[1;33m(\u001b[0m\u001b[1;33m)\u001b[0m\u001b[1;33m:\u001b[0m\u001b[1;33m\u001b[0m\u001b[1;33m\u001b[0m\u001b[0m\n\u001b[0;32m     11\u001b[0m     \u001b[0mp_pa\u001b[0m \u001b[1;33m=\u001b[0m \u001b[0mhist\u001b[0m\u001b[1;33m[\u001b[0m\u001b[0mget_bin\u001b[0m\u001b[1;33m(\u001b[0m\u001b[0mpedges\u001b[0m\u001b[1;33m,\u001b[0m \u001b[0mpersona\u001b[0m\u001b[1;33m[\u001b[0m\u001b[1;34m'Peso'\u001b[0m\u001b[1;33m]\u001b[0m\u001b[1;33m)\u001b[0m\u001b[1;33m]\u001b[0m\u001b[1;33m[\u001b[0m\u001b[0mget_bin\u001b[0m\u001b[1;33m(\u001b[0m\u001b[0maedges\u001b[0m\u001b[1;33m,\u001b[0m \u001b[0mpersona\u001b[0m\u001b[1;33m[\u001b[0m\u001b[1;34m'Altura'\u001b[0m\u001b[1;33m]\u001b[0m\u001b[1;33m)\u001b[0m\u001b[1;33m]\u001b[0m\u001b[1;33m\u001b[0m\u001b[1;33m\u001b[0m\u001b[0m\n\u001b[1;32m---> 12\u001b[1;33m     \u001b[0mp_pa_h\u001b[0m \u001b[1;33m=\u001b[0m \u001b[0mhist_h\u001b[0m\u001b[1;33m[\u001b[0m\u001b[0mget_bin\u001b[0m\u001b[1;33m(\u001b[0m\u001b[0mpedges_h\u001b[0m\u001b[1;33m,\u001b[0m \u001b[0mpersona\u001b[0m\u001b[1;33m[\u001b[0m\u001b[1;34m'Peso'\u001b[0m\u001b[1;33m]\u001b[0m\u001b[1;33m)\u001b[0m\u001b[1;33m]\u001b[0m\u001b[1;33m[\u001b[0m\u001b[0mget_bin\u001b[0m\u001b[1;33m(\u001b[0m\u001b[0maedges_h\u001b[0m\u001b[1;33m,\u001b[0m \u001b[0mpersona\u001b[0m\u001b[1;33m[\u001b[0m\u001b[1;34m'Altura'\u001b[0m\u001b[1;33m]\u001b[0m\u001b[1;33m)\u001b[0m\u001b[1;33m]\u001b[0m\u001b[1;33m\u001b[0m\u001b[1;33m\u001b[0m\u001b[0m\n\u001b[0m\u001b[0;32m     13\u001b[0m \u001b[1;33m\u001b[0m\u001b[0m\n\u001b[0;32m     14\u001b[0m \u001b[1;31m#print(p_pa)\u001b[0m\u001b[1;33m\u001b[0m\u001b[1;33m\u001b[0m\u001b[1;33m\u001b[0m\u001b[0m\n",
      "\u001b[1;31mNameError\u001b[0m: name 'pedges_h' is not defined"
     ]
    }
   ],
   "source": [
    "aciertos = 0\n",
    "\n",
    "def get_bin(a, x):\n",
    "    ind = bisect.bisect(a, x)\n",
    "    if ind == len(a):\n",
    "        ind -= 1\n",
    "    return ind\n",
    "    \n",
    "    \n",
    "for _, persona in df_test.iterrows():\n",
    "    p_pa = hist[get_bin(pedges, persona['Peso'])][get_bin(aedges, persona['Altura'])]\n",
    "    p_pa_h = hist_h[get_bin(pedges_h, persona['Peso'])][get_bin(aedges_h, persona['Altura'])]\n",
    "\n",
    "#print(p_pa)\n",
    "    if p_pa != 0:\n",
    "        p_h = p_pa_h * p_hombre / p_pa\n",
    "    else:\n",
    "        p_h = np.random.rand()\n",
    "        \n",
    "    guess = 'Hombre' if p_h > 0.5 else 'Mujer'\n",
    "    #print(f\"Adivine {'hombre' if p_h > 0.5 else 'mujer'} con p={p_h}\")\n",
    "    #print(f\"Era {persona['Genero']}\")\n",
    "    if persona['Genero'] == guess:\n",
    "        aciertos +=1\n",
    "        \n",
    "print(aciertos/len(df_test))\n"
   ]
  },
  {
   "cell_type": "code",
   "execution_count": null,
   "metadata": {},
   "outputs": [],
   "source": [
    "def get_2dgaussian_dist(df):\n",
    "    dist = stats.multivariate_normal(mean=df.mean(), cov=df.cov())\n",
    "    return dist\n",
    "    \n",
    "def func():\n",
    "    pa, pa_m, pa_h = (get_2dgaussian_dist(dataframe) for dataframe in [df, df_mujeres, df_hombres])\n",
    "\n",
    "    pesos, alturas = np.mgrid[pedges[0]:pedges[-1]:1, aedges[0]:aedges[-1]:1]\n",
    "    # alturas = np.linspace(min(df['Altura']), max(df['Altura']), 30)\n",
    "    xy = np.dstack((pesos, alturas))\n",
    "\n",
    "    figsize=(10, 5)\n",
    "    fig1, (ax11, ax12) = plt.subplots(1, 2, figsize=figsize, \n",
    "                                      gridspec_kw={'width_ratios': [1, 1]})\n",
    "    ax11.set_title('Todos')\n",
    "\n",
    "\n",
    "    fig2, (ax21, ax22) = plt.subplots(1, 2, figsize=figsize, \n",
    "                                      gridspec_kw={'width_ratios': [1, 1]})\n",
    "    ax21.set_title('Mujeres')\n",
    "\n",
    "    fig2, (ax31, ax32) = plt.subplots(1, 2, figsize=figsize, \n",
    "                                      gridspec_kw={'width_ratios': [1, 1]})\n",
    "    ax31.set_title('Hombres')\n",
    "\n",
    "    ax11.imshow(hist, origin='lower', extent=(pedges[0], pedges[-1], aedges[0], aedges[-1]))\n",
    "    ax21.imshow(hist_m, origin='lower', extent=(pedges[0], pedges[-1], aedges[0], aedges[-1]))\n",
    "    ax31.imshow(hist_h, origin='lower', extent=(pedges[0], pedges[-1], aedges[0], aedges[-1]))\n",
    "\n",
    "    ax12.contourf(pesos, alturas, pa.pdf(xy))\n",
    "    ax22.contourf(pesos, alturas, pa_m.pdf(xy))\n",
    "    ax32.contourf(pesos, alturas, pa_h.pdf(xy))\n",
    "\n",
    "    ax11.axis('scaled')\n",
    "    ax12.axis('scaled')\n",
    "    ax21.axis('scaled')\n",
    "    ax22.axis('scaled')\n",
    "    ax31.axis('scaled')\n",
    "    ax32.axis('scaled')\n",
    "\n",
    "    plt.show()\n",
    "    \n",
    "func()"
   ]
  },
  {
   "cell_type": "code",
   "execution_count": null,
   "metadata": {},
   "outputs": [],
   "source": []
  },
  {
   "cell_type": "code",
   "execution_count": null,
   "metadata": {},
   "outputs": [],
   "source": [
    "def get_prob(dist, x, bin_size):\n",
    "    return dist.cdf(x+bin_size/2)-dist.cdf(x-bin_size/2)"
   ]
  },
  {
   "cell_type": "code",
   "execution_count": null,
   "metadata": {},
   "outputs": [],
   "source": [
    "bin_size = np.array([1, 0.5]) # 1kg y 0.5cm\n",
    "\n",
    "aciertos = 0\n",
    "for _, persona in df_test.iterrows():\n",
    "    measures = np.array([persona['Peso'], persona['Altura']])\n",
    "    p_pa = get_prob(pa, measures, bin_size)\n",
    "    p_pa_h = get_prob(pa_h, measures, bin_size)\n",
    "    \n",
    "    if p_pa != 0:\n",
    "        p_h = p_pa_h * p_hombre / p_pa\n",
    "    else:\n",
    "        p_h = 1 if persona['Altura'] >= mu_a else 0\n",
    "    \n",
    "    guess = 'Hombre' if p_h>0.5 else 'Mujer'\n",
    "    if persona['Genero'] == guess:\n",
    "        aciertos +=1\n",
    "        \n",
    "print(aciertos/len(df_test))"
   ]
  },
  {
   "cell_type": "code",
   "execution_count": null,
   "metadata": {},
   "outputs": [],
   "source": []
  }
 ],
 "metadata": {
  "kernelspec": {
   "display_name": "Python 3",
   "language": "python",
   "name": "python3"
  },
  "language_info": {
   "codemirror_mode": {
    "name": "ipython",
    "version": 3
   },
   "file_extension": ".py",
   "mimetype": "text/x-python",
   "name": "python",
   "nbconvert_exporter": "python",
   "pygments_lexer": "ipython3",
   "version": "3.8.5"
  }
 },
 "nbformat": 4,
 "nbformat_minor": 4
}
