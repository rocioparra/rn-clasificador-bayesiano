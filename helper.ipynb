{
 "cells": [
  {
   "cell_type": "code",
   "execution_count": 1,
   "metadata": {},
   "outputs": [],
   "source": [
    "import pandas as pd\n",
    "import numpy as np\n",
    "import bisect\n",
    "import scipy.stats as stats\n",
    "from matplotlib import pyplot as plt\n"
   ]
  },
  {
   "cell_type": "code",
   "execution_count": 2,
   "metadata": {},
   "outputs": [],
   "source": [
    "N_BINS = 30\n",
    "BIN_SIZE = np.array([1, 0.5])\n",
    "\n",
    "FIGSIZE=(10, 5)"
   ]
  },
  {
   "cell_type": "code",
   "execution_count": 3,
   "metadata": {},
   "outputs": [],
   "source": [
    "def get_bin(a, x):\n",
    "    ind = bisect.bisect(a, x)\n",
    "    if ind == len(a):\n",
    "        ind -= 1\n",
    "    return ind"
   ]
  },
  {
   "cell_type": "code",
   "execution_count": 4,
   "metadata": {},
   "outputs": [],
   "source": [
    "class WeigthHeightData:\n",
    "    def __init__(self, name, df, dataedges=None):\n",
    "        self.df = pd.DataFrame(df[['Peso', 'Altura', 'Genero']])\n",
    "        self.name = str(name).lower()\n",
    "        \n",
    "        ## histogram from samples\n",
    "        bins = dataedges if dataedges is not None else N_BINS\n",
    "        self.hist, self.pedges, self.aedges = np.histogram2d(\n",
    "            self.df['Peso'], self.df['Altura'], bins=bins)\n",
    "        \n",
    "        ## pdf assuming joint gaussians\n",
    "        self.cov = df[['Peso', 'Altura']].cov()\n",
    "        self.mean = df[['Peso', 'Altura']].mean()\n",
    "        \n",
    "        self.dist = stats.multivariate_normal(mean=self.mean, cov=self.cov)\n",
    "        \n",
    "        return\n",
    "    \n",
    "    def get_prob_gaussian(x, bin_size):\n",
    "        return self.dist.cdf(x+BIN_SIZE/2)-dist.cdf(x-BIN_SIZE/2)\n",
    "    \n",
    "    def get_prob_hist(x):\n",
    "        self.hist[get_bin(self.pedges, x[0])][get_bin(self.aedges, x[1])]\n",
    "    "
   ]
  },
  {
   "cell_type": "code",
   "execution_count": 5,
   "metadata": {},
   "outputs": [],
   "source": [
    "def plot_hist_and_gaussian(data):\n",
    "    # create axis\n",
    "    _, axes = plt.subplots(\n",
    "        1, 2, figsize=FIGSIZE, gridspec_kw={'width_ratios': [1, 1]}, sharey=True)\n",
    "\n",
    "    # plot histogram \n",
    "    axes[0].imshow(data.hist, origin='lower', extent=(\n",
    "        self.pedges[0], self.pedges[-1], self.aedges[0], self.aedges[-1]))\n",
    "    \n",
    "    # plot gaussian pdf\n",
    "    pesos, alturas = np.mgrid[data.pedges[0]:data.pedges[-1]:1,\n",
    "                              data.aedges[0]:data.aedges[-1]:1]\n",
    "    pa = np.dstack((pesos, alturas))\n",
    "    axes[1].contourf(pesos, alturas, self.dist.pdf(pa))\n",
    "    \n",
    "    # final plot settings\n",
    "    for i, title in enumerate(['Histograma a partir de muestras', \n",
    "                            'Curvas de nivel de pdf gaussiana']):\n",
    "        axes[i].set_title(title)\n",
    "        axes[i].axis('scaled')\n",
    "    \n",
    "    # show results\n",
    "    print(f'\\nGráficos correspondientes a {self.name}')\n",
    "    plt.show()"
   ]
  }
 ],
 "metadata": {
  "kernelspec": {
   "display_name": "Python 3",
   "language": "python",
   "name": "python3"
  },
  "language_info": {
   "codemirror_mode": {
    "name": "ipython",
    "version": 3
   },
   "file_extension": ".py",
   "mimetype": "text/x-python",
   "name": "python",
   "nbconvert_exporter": "python",
   "pygments_lexer": "ipython3",
   "version": "3.8.5"
  }
 },
 "nbformat": 4,
 "nbformat_minor": 4
}
