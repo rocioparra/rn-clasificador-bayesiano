{
 "cells": [
  {
   "cell_type": "code",
   "execution_count": 50,
   "metadata": {},
   "outputs": [],
   "source": [
    "import pandas as pd\n",
    "import numpy as np\n",
    "import bisect\n",
    "import scipy.stats as stats"
   ]
  },
  {
   "cell_type": "code",
   "execution_count": 95,
   "metadata": {},
   "outputs": [],
   "source": [
    "df = pd.read_csv(\"https://raw.githubusercontent.com/lab-pep-itba/Clase-3---Clasificadores-Bayesianos/master/data/alturas-pesos-mils-train.csv\", index_col=\"Unnamed: 0\")\n",
    "df_test = pd.read_csv(\"https://raw.githubusercontent.com/lab-pep-itba/Clase-3---Clasificadores-Bayesianos/master/data/alturas-pesos-mils-test.csv\", index_col=\"Unnamed: 0\")"
   ]
  },
  {
   "cell_type": "code",
   "execution_count": 3,
   "metadata": {},
   "outputs": [
    {
     "data": {
      "text/html": [
       "<div>\n",
       "<style scoped>\n",
       "    .dataframe tbody tr th:only-of-type {\n",
       "        vertical-align: middle;\n",
       "    }\n",
       "\n",
       "    .dataframe tbody tr th {\n",
       "        vertical-align: top;\n",
       "    }\n",
       "\n",
       "    .dataframe thead th {\n",
       "        text-align: right;\n",
       "    }\n",
       "</style>\n",
       "<table border=\"1\" class=\"dataframe\">\n",
       "  <thead>\n",
       "    <tr style=\"text-align: right;\">\n",
       "      <th></th>\n",
       "      <th>Genero</th>\n",
       "      <th>Peso</th>\n",
       "      <th>Altura</th>\n",
       "    </tr>\n",
       "  </thead>\n",
       "  <tbody>\n",
       "    <tr>\n",
       "      <th>7620</th>\n",
       "      <td>Mujer</td>\n",
       "      <td>61.235</td>\n",
       "      <td>162.402</td>\n",
       "    </tr>\n",
       "    <tr>\n",
       "      <th>1837</th>\n",
       "      <td>Hombre</td>\n",
       "      <td>97.432</td>\n",
       "      <td>181.908</td>\n",
       "    </tr>\n",
       "    <tr>\n",
       "      <th>3311</th>\n",
       "      <td>Hombre</td>\n",
       "      <td>73.324</td>\n",
       "      <td>172.459</td>\n",
       "    </tr>\n",
       "    <tr>\n",
       "      <th>9478</th>\n",
       "      <td>Mujer</td>\n",
       "      <td>55.193</td>\n",
       "      <td>157.748</td>\n",
       "    </tr>\n",
       "    <tr>\n",
       "      <th>7805</th>\n",
       "      <td>Mujer</td>\n",
       "      <td>56.886</td>\n",
       "      <td>151.798</td>\n",
       "    </tr>\n",
       "  </tbody>\n",
       "</table>\n",
       "</div>"
      ],
      "text/plain": [
       "      Genero    Peso   Altura\n",
       "7620   Mujer  61.235  162.402\n",
       "1837  Hombre  97.432  181.908\n",
       "3311  Hombre  73.324  172.459\n",
       "9478   Mujer  55.193  157.748\n",
       "7805   Mujer  56.886  151.798"
      ]
     },
     "execution_count": 3,
     "metadata": {},
     "output_type": "execute_result"
    }
   ],
   "source": [
    "df.head()"
   ]
  },
  {
   "cell_type": "code",
   "execution_count": 4,
   "metadata": {},
   "outputs": [],
   "source": [
    "df_mujeres = df[df['Genero']=='Mujer'].drop(columns=['Genero'])\n",
    "df_hombres = df[df['Genero']=='Hombre'].drop(columns=['Genero'])\n",
    "df.drop(columns='Genero', inplace=True)"
   ]
  },
  {
   "cell_type": "code",
   "execution_count": 5,
   "metadata": {},
   "outputs": [
    {
     "name": "stdout",
     "output_type": "stream",
     "text": [
      "0.49975+0.50025=1.0\n"
     ]
    }
   ],
   "source": [
    "p_mujer = len(df_mujeres)/len(df)\n",
    "p_hombre = len(df_hombres)/len(df)\n",
    "print(f'{p_mujer}+{p_hombre}={p_mujer+p_hombre}')"
   ]
  },
  {
   "cell_type": "code",
   "execution_count": 6,
   "metadata": {},
   "outputs": [],
   "source": [
    "mu_p, mu_a = df.mean()\n",
    "mu_p_m, mu_a_m = df_mujeres.mean()\n",
    "mu_p_h, mu_a_h = df_hombres.mean()"
   ]
  },
  {
   "cell_type": "code",
   "execution_count": 12,
   "metadata": {},
   "outputs": [
    {
     "data": {
      "text/html": [
       "<div>\n",
       "<style scoped>\n",
       "    .dataframe tbody tr th:only-of-type {\n",
       "        vertical-align: middle;\n",
       "    }\n",
       "\n",
       "    .dataframe tbody tr th {\n",
       "        vertical-align: top;\n",
       "    }\n",
       "\n",
       "    .dataframe thead th {\n",
       "        text-align: right;\n",
       "    }\n",
       "</style>\n",
       "<table border=\"1\" class=\"dataframe\">\n",
       "  <thead>\n",
       "    <tr style=\"text-align: right;\">\n",
       "      <th></th>\n",
       "      <th>Grupo</th>\n",
       "      <th>Media peso</th>\n",
       "      <th>Desvio peso</th>\n",
       "      <th>Media altura</th>\n",
       "      <th>Desvio altura</th>\n",
       "      <th>Correlacion</th>\n",
       "    </tr>\n",
       "  </thead>\n",
       "  <tbody>\n",
       "    <tr>\n",
       "      <th>0</th>\n",
       "      <td>Todos</td>\n",
       "      <td>72.802476</td>\n",
       "      <td>14.624699</td>\n",
       "      <td>168.113424</td>\n",
       "      <td>9.829018</td>\n",
       "      <td>0.924378</td>\n",
       "    </tr>\n",
       "    <tr>\n",
       "      <th>1</th>\n",
       "      <td>Mujeres</td>\n",
       "      <td>61.137895</td>\n",
       "      <td>8.671726</td>\n",
       "      <td>161.304713</td>\n",
       "      <td>6.897148</td>\n",
       "      <td>0.848971</td>\n",
       "    </tr>\n",
       "    <tr>\n",
       "      <th>2</th>\n",
       "      <td>Hombres</td>\n",
       "      <td>84.455398</td>\n",
       "      <td>8.983019</td>\n",
       "      <td>174.915330</td>\n",
       "      <td>7.281646</td>\n",
       "      <td>0.860449</td>\n",
       "    </tr>\n",
       "  </tbody>\n",
       "</table>\n",
       "</div>"
      ],
      "text/plain": [
       "     Grupo  Media peso  Desvio peso  Media altura  Desvio altura  Correlacion\n",
       "0    Todos   72.802476    14.624699    168.113424       9.829018     0.924378\n",
       "1  Mujeres   61.137895     8.671726    161.304713       6.897148     0.848971\n",
       "2  Hombres   84.455398     8.983019    174.915330       7.281646     0.860449"
      ]
     },
     "execution_count": 12,
     "metadata": {},
     "output_type": "execute_result"
    }
   ],
   "source": [
    "def get_cov_mat_data(df):\n",
    "    cov_mat = df.cov().to_numpy()\n",
    "    std_x, std_y = np.sqrt(cov_mat.diagonal())\n",
    "    std_xy = cov_mat[0][1]/std_x/std_y\n",
    "    return std_x, std_y, std_xy\n",
    "    \n",
    "std_p, std_a, std_pa = get_cov_mat_data(df)\n",
    "std_p_m, std_a_m, std_pa_m = get_cov_mat_data(df_mujeres)\n",
    "std_p_h, std_a_h, std_pa_h = get_cov_mat_data(df_hombres)\n",
    "\n",
    "d = pd.DataFrame([['Todos', mu_p, std_p, mu_a, std_a, std_pa],\n",
    "              ['Mujeres', mu_p_m, std_p_m, mu_a_m, std_a_m, std_pa_m], \n",
    "              ['Hombres', mu_p_h, std_p_h, mu_a_h, std_a_h, std_pa_h]],\n",
    "    columns=['Grupo', 'Media peso', 'Desvio peso', 'Media altura', 'Desvio altura', 'Correlacion'])\n",
    "\n",
    "d"
   ]
  },
  {
   "cell_type": "code",
   "execution_count": 43,
   "metadata": {},
   "outputs": [],
   "source": [
    "hist, pedges, aedges = np.histogram2d(df['Peso'], df['Altura'], bins=40)\n",
    "hist_m, pedges_m, aedges_m = np.histogram2d(df_mujeres['Peso'], df_mujeres['Altura'], bins=40)\n",
    "hist_h, pedges_h, aedges_h = np.histogram2d(df_hombres['Peso'], df_hombres['Altura'], bins=40)\n",
    "\n",
    "hist /= len(df)\n",
    "hist_m /= len(df_mujeres)\n",
    "hist_h /= len(df_hombres)"
   ]
  },
  {
   "cell_type": "code",
   "execution_count": 14,
   "metadata": {},
   "outputs": [
    {
     "data": {
      "text/plain": [
       "array([[0., 1., 0., ..., 0., 0., 0.],\n",
       "       [0., 0., 0., ..., 0., 0., 0.],\n",
       "       [1., 0., 2., ..., 0., 0., 0.],\n",
       "       ...,\n",
       "       [0., 0., 0., ..., 0., 0., 0.],\n",
       "       [0., 0., 0., ..., 0., 0., 0.],\n",
       "       [0., 0., 0., ..., 0., 0., 1.]])"
      ]
     },
     "execution_count": 14,
     "metadata": {},
     "output_type": "execute_result"
    }
   ],
   "source": [
    "hist"
   ]
  },
  {
   "cell_type": "code",
   "execution_count": 66,
   "metadata": {},
   "outputs": [
    {
     "name": "stdout",
     "output_type": "stream",
     "text": [
      "0.8435\n"
     ]
    }
   ],
   "source": [
    "aciertos = 0\n",
    "\n",
    "def get_bin(a, x):\n",
    "    ind = bisect.bisect(a, x)\n",
    "    if ind == len(a):\n",
    "        ind -= 1\n",
    "    return ind\n",
    "    \n",
    "    \n",
    "for _, persona in df_test.iterrows():\n",
    "    p_pa = hist[get_bin(pedges, persona['Peso'])][get_bin(aedges, persona['Altura'])]\n",
    "    p_pa_h = hist_h[get_bin(pedges_h, persona['Peso'])][get_bin(aedges_h, persona['Altura'])]\n",
    "\n",
    "#print(p_pa)\n",
    "    if p_pa != 0:\n",
    "        p_h = p_pa_h * p_hombre / p_pa\n",
    "    else:\n",
    "        p_h = np.random.rand()\n",
    "        \n",
    "    guess = 'Hombre' if p_h >0.5 else 'Mujer'\n",
    "    #print(f\"Adivine {'hombre' if p_h > 0.5 else 'mujer'} con p={p_h}\")\n",
    "    #print(f\"Era {persona['Genero']}\")\n",
    "    if persona['Genero'] == guess:\n",
    "        aciertos +=1\n",
    "        \n",
    "print(aciertos/len(df_test))\n"
   ]
  },
  {
   "cell_type": "code",
   "execution_count": 59,
   "metadata": {},
   "outputs": [],
   "source": [
    "def get_2dgaussian_dist(df):\n",
    "    dist = stats.multivariate_normal(mean=df.mean(), cov=df.cov())\n",
    "    return dist\n",
    "    \n",
    "pa, pa_m, pa_h = (get_2dgaussian_dist(dataframe) for dataframe in [df, df_mujeres, df_hombres])\n"
   ]
  },
  {
   "cell_type": "code",
   "execution_count": 77,
   "metadata": {},
   "outputs": [],
   "source": [
    "def get_prob(dist, x, bin_size):\n",
    "    return dist.cdf(x+bin_size/2)-dist.cdf(x-bin_size/2)"
   ]
  },
  {
   "cell_type": "code",
   "execution_count": 123,
   "metadata": {},
   "outputs": [
    {
     "name": "stdout",
     "output_type": "stream",
     "text": [
      "0.854625\n"
     ]
    }
   ],
   "source": [
    "bin_size = np.array([1, 0.5]) # 1kg y 0.5cm\n",
    "\n",
    "aciertos = 0\n",
    "for _, persona in df.iterrows():\n",
    "    measures = np.array([persona['Peso'], persona['Altura']])\n",
    "    p_pa = get_prob(pa, measures, bin_size)\n",
    "    p_pa_h = get_prob(pa_h, measures, bin_size)\n",
    "    \n",
    "    if p_pa != 0:\n",
    "        p_h = p_pa_h * p_hombre / p_pa\n",
    "    else:\n",
    "        p_h = 1 if persona['Altura'] >= mu_a else 0\n",
    "    \n",
    "    guess = 'Hombre' if p_h>0.5 else 'Mujer'\n",
    "    if persona['Genero'] == guess:\n",
    "        aciertos +=1\n",
    "        \n",
    "print(aciertos/len(df))"
   ]
  },
  {
   "cell_type": "code",
   "execution_count": null,
   "metadata": {},
   "outputs": [],
   "source": []
  }
 ],
 "metadata": {
  "kernelspec": {
   "display_name": "Python 3",
   "language": "python",
   "name": "python3"
  },
  "language_info": {
   "codemirror_mode": {
    "name": "ipython",
    "version": 3
   },
   "file_extension": ".py",
   "mimetype": "text/x-python",
   "name": "python",
   "nbconvert_exporter": "python",
   "pygments_lexer": "ipython3",
   "version": "3.8.5"
  }
 },
 "nbformat": 4,
 "nbformat_minor": 4
}
